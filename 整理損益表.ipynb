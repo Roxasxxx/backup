{
  "nbformat": 4,
  "nbformat_minor": 0,
  "metadata": {
    "colab": {
      "provenance": [],
      "authorship_tag": "ABX9TyOdquKiav7SOMGvcfR4DU8B",
      "include_colab_link": true
    },
    "kernelspec": {
      "name": "python3",
      "display_name": "Python 3"
    },
    "language_info": {
      "name": "python"
    }
  },
  "cells": [
    {
      "cell_type": "markdown",
      "metadata": {
        "id": "view-in-github",
        "colab_type": "text"
      },
      "source": [
        "<a href=\"https://colab.research.google.com/github/Roxasxxx/backup/blob/main/%E6%95%B4%E7%90%86%E6%90%8D%E7%9B%8A%E8%A1%A8.ipynb\" target=\"_parent\"><img src=\"https://colab.research.google.com/assets/colab-badge.svg\" alt=\"Open In Colab\"/></a>"
      ]
    },
    {
      "cell_type": "code",
      "source": [
        "import requests\n",
        "import pandas as pd\n",
        "from io import StringIO\n",
        "import time\n",
        "import random\n",
        "from google.colab import files"
      ],
      "metadata": {
        "id": "EK1hZ6H3AcOH"
      },
      "execution_count": 25,
      "outputs": []
    },
    {
      "cell_type": "code",
      "execution_count": 26,
      "metadata": {
        "id": "o3XybD_HAGhW"
      },
      "outputs": [],
      "source": [
        "statements={'BalanceSheet': \"https://mops.twse.com.tw/mops/web/ajax_t164sb03\",\n",
        "    'ProfitAndLose': \"https://mops.twse.com.tw/mops/web/ajax_t164sb04\",\n",
        "    'CashFlowStatement' : \"https://mops.twse.com.tw/mops/web/ajax_t164sb05\"}\n",
        "\n",
        "def get_statement(stock,year,season,statement):\n",
        "\n",
        "    try:\n",
        "        # 爬取資料\n",
        "        form_data = {\n",
        "            'encodeURIComponent':1,\n",
        "            'step':1,\n",
        "            'firstin':1,\n",
        "            'off':1,\n",
        "            'co_id':stock,\n",
        "            'year': year-1911,\n",
        "            'season': season,\n",
        "        }\n",
        "\n",
        "        r = requests.post(statement,form_data)\n",
        "\n",
        "        # 使用 StringIO 來包裝 HTML 字符串\n",
        "        html_io = StringIO(r.text)\n",
        "        html_df = pd.read_html(html_io)[1].fillna(\"\")\n",
        "\n",
        "        #整理表格\n",
        "        html_df.columns = html_df.columns.get_level_values(-1)\n",
        "        thisyear = f'{year}Q{season}'\n",
        "        lastyear = f'{year-1}Q{season}'\n",
        "        html_df = html_df.drop(['%'], axis=1)\n",
        "        overall_df = html_df.iloc[:, :-1]\n",
        "        if season in [1, 4]:\n",
        "            cols = ['account',f'{thisyear}_sum',f'{lastyear}_sum']\n",
        "        else:\n",
        "            cols = ['account',thisyear,lastyear,f'{thisyear}_sum',f'{lastyear}_sum']\n",
        "        overall_df.columns=cols\n",
        "        return overall_df\n",
        "\n",
        "    except Exception as e:\n",
        "        print(f\"{stock} {year}Q{season} statement is not exist. Error: {str(e)}\")\n",
        "        return None\n"
      ]
    },
    {
      "cell_type": "code",
      "source": [
        "def create_new_df(df, accounting, thisquarter, lastquarter, name):\n",
        "    new_data = {'name': name}\n",
        "    try:\n",
        "        for account in accounting:\n",
        "            thisyear_value = df.loc[df['account'] == account, f'{thisquarter}_sum'].values[0]\n",
        "            lastyear_value = df.loc[df['account'] == account, f'{lastquarter}_sum'].values[0]\n",
        "\n",
        "            new_data[f'{thisquarter}_sum{account}'] = thisyear_value\n",
        "            new_data[f'{lastquarter}_sum{account}'] = lastyear_value\n",
        "    except:\n",
        "        print('create error')\n",
        "    return new_data"
      ],
      "metadata": {
        "id": "0y5MEWUTAU-q"
      },
      "execution_count": 27,
      "outputs": []
    },
    {
      "cell_type": "code",
      "source": [
        "#定義變數\n",
        "# 輸入需要的股票代號、年度、季度、會計科目\n",
        "\n",
        "names = [2459,\n",
        "3010,\n",
        "3028,\n",
        "3033,\n",
        "3036,\n",
        "3048,\n",
        "3209,\n",
        "3232,\n",
        "3312,\n",
        "3360,\n",
        "3444,\n",
        "3528,\n",
        "3702,\n",
        "5434,\n",
        "6113,\n",
        "6189,\n",
        "6192,\n",
        "6227,\n",
        "6259,\n",
        "6265,\n",
        "6270,\n",
        "8032,\n",
        "8068,\n",
        "8070,\n",
        "8096,\n",
        "8112]\n",
        "\n",
        "\n",
        "year = 2024\n",
        "season = 1\n",
        "accounting = ['營業收入合計','營業毛利（毛損）','營業利益（損失）', '稅前淨利（淨損）', '本期淨利（淨損）']\n",
        "thisquarter = f'{year}Q{season}'\n",
        "lastquarter = f'{year-1}Q{season}'"
      ],
      "metadata": {
        "id": "ugN3SkZoAmS8"
      },
      "execution_count": 28,
      "outputs": []
    },
    {
      "cell_type": "code",
      "source": [
        "# 構建迴圈\n",
        "\n",
        "# 建立空Dataframe儲存資料\n",
        "profit_data = pd.DataFrame()\n",
        "n = 0\n",
        "\n",
        "for name in names:\n",
        "    #爬取資料\n",
        "    try:\n",
        "        print(name)\n",
        "        df = get_statement(name,year,season,statements['ProfitAndLose'])\n",
        "        new_data = pd.DataFrame([create_new_df(df,accounting,thisquarter,lastquarter,name)],index=[n+1])\n",
        "        new_df = pd.DataFrame(new_data)\n",
        "        new_df.head()\n",
        "        profit_data = pd.concat([profit_data, new_df], ignore_index=True)\n",
        "        n+=1\n",
        "        #停滯時間\n",
        "        if n%random.randint(3,5) == 0:\n",
        "            time.sleep(random.randint(20,40))\n",
        "        elif n == len(names):\n",
        "          print('done')\n",
        "          pass\n",
        "    except:\n",
        "        print(str(name)+'無法取得資料')\n",
        "        pass"
      ],
      "metadata": {
        "colab": {
          "base_uri": "https://localhost:8080/"
        },
        "id": "hfV8HNpsAmVf",
        "outputId": "9ecec683-d06d-4ed6-8f72-9ba1769b6d68"
      },
      "execution_count": 29,
      "outputs": [
        {
          "output_type": "stream",
          "name": "stdout",
          "text": [
            "2459\n",
            "3010\n",
            "3028\n",
            "3033\n",
            "3036\n",
            "3048\n",
            "3209\n",
            "3232\n",
            "3312\n",
            "3360\n",
            "3444\n",
            "3528\n",
            "3702\n",
            "5434\n",
            "6113\n",
            "6189\n",
            "6192\n",
            "6227\n",
            "6259\n",
            "6265\n",
            "6270\n",
            "8032\n",
            "8068\n",
            "8070\n",
            "8096\n",
            "8112\n",
            "Done\n"
          ]
        }
      ]
    },
    {
      "cell_type": "code",
      "source": [
        "#計算整理\n",
        "\n",
        "for col in accounting:\n",
        "    profit_data[f'{col}億元'] = profit_data[f'{thisquarter}_sum{col}'] / 100000\n",
        "    profit_data[f'{col}年增率'] = pd.Series(dtype='object')\n",
        "    profit_data[f'{col}年增率'] = (profit_data[f'{thisquarter}_sum{col}'] - profit_data[f'{lastquarter}_sum{col}']) / profit_data[f'{lastquarter}_sum{col}'] * 100\n",
        "\n",
        "    # 將年增率欄位轉換為 object 型別以便能夠存儲字符串\n",
        "    profit_data[f'{col}年增率'] = profit_data[f'{col}年增率'].astype(object)\n",
        "\n",
        "for idx in profit_data.index:\n",
        "    for col in accounting:\n",
        "        if profit_data.loc[idx, f'{lastquarter}_sum{col}'] < 0 and profit_data.loc[idx, f'{thisquarter}_sum{col}'] > 0:\n",
        "            profit_data.loc[idx, f'{col}年增率'] = '由虧轉盈'\n",
        "        elif profit_data.loc[idx, f'{lastquarter}_sum{col}'] > 0 and profit_data.loc[idx, f'{thisquarter}_sum{col}'] < 0:\n",
        "            profit_data.loc[idx, f'{col}年增率'] = '由盈轉虧'\n",
        "        elif profit_data.loc[idx, f'{lastquarter}_sum{col}'] < profit_data.loc[idx, f'{thisquarter}_sum{col}'] < 0:\n",
        "            profit_data.loc[idx, f'{col}年增率'] = '虧損減少'\n",
        "        elif profit_data.loc[idx, f'{thisquarter}_sum{col}'] < profit_data.loc[idx, f'{lastquarter}_sum{col}'] < 0:\n",
        "            profit_data.loc[idx, f'{col}年增率'] = '虧損增加'"
      ],
      "metadata": {
        "id": "BMdj9eTCAmXw"
      },
      "execution_count": 30,
      "outputs": []
    },
    {
      "cell_type": "code",
      "source": [
        "# 生成的新列表\n",
        "accounting_list = ['name']\n",
        "\n",
        "# 迭代列表中的每一個指標\n",
        "for indicator in accounting:\n",
        "    accounting_list.append(f\"{indicator}億元\")\n",
        "    accounting_list.append(f\"{indicator}年增率\")"
      ],
      "metadata": {
        "id": "-uUyfVL2Amag"
      },
      "execution_count": 31,
      "outputs": []
    },
    {
      "cell_type": "code",
      "source": [
        "output = profit_data[accounting_list]"
      ],
      "metadata": {
        "id": "95bSumWiAsV8"
      },
      "execution_count": 32,
      "outputs": []
    },
    {
      "cell_type": "code",
      "source": [
        "output.to_csv(f'statement_output_{thisquarter}.csv', index=False,encoding=\"utf_8_sig\")"
      ],
      "metadata": {
        "id": "4gjCG7s2Asax"
      },
      "execution_count": 33,
      "outputs": []
    },
    {
      "cell_type": "code",
      "source": [
        "files.download(f'statement_output_{thisquarter}.csv')"
      ],
      "metadata": {
        "colab": {
          "base_uri": "https://localhost:8080/",
          "height": 17
        },
        "id": "HBqt6iuMAseP",
        "outputId": "2d355f6f-4834-4bdb-d319-da3724c8c987"
      },
      "execution_count": 34,
      "outputs": [
        {
          "output_type": "display_data",
          "data": {
            "text/plain": [
              "<IPython.core.display.Javascript object>"
            ],
            "application/javascript": [
              "\n",
              "    async function download(id, filename, size) {\n",
              "      if (!google.colab.kernel.accessAllowed) {\n",
              "        return;\n",
              "      }\n",
              "      const div = document.createElement('div');\n",
              "      const label = document.createElement('label');\n",
              "      label.textContent = `Downloading \"${filename}\": `;\n",
              "      div.appendChild(label);\n",
              "      const progress = document.createElement('progress');\n",
              "      progress.max = size;\n",
              "      div.appendChild(progress);\n",
              "      document.body.appendChild(div);\n",
              "\n",
              "      const buffers = [];\n",
              "      let downloaded = 0;\n",
              "\n",
              "      const channel = await google.colab.kernel.comms.open(id);\n",
              "      // Send a message to notify the kernel that we're ready.\n",
              "      channel.send({})\n",
              "\n",
              "      for await (const message of channel.messages) {\n",
              "        // Send a message to notify the kernel that we're ready.\n",
              "        channel.send({})\n",
              "        if (message.buffers) {\n",
              "          for (const buffer of message.buffers) {\n",
              "            buffers.push(buffer);\n",
              "            downloaded += buffer.byteLength;\n",
              "            progress.value = downloaded;\n",
              "          }\n",
              "        }\n",
              "      }\n",
              "      const blob = new Blob(buffers, {type: 'application/binary'});\n",
              "      const a = document.createElement('a');\n",
              "      a.href = window.URL.createObjectURL(blob);\n",
              "      a.download = filename;\n",
              "      div.appendChild(a);\n",
              "      a.click();\n",
              "      div.remove();\n",
              "    }\n",
              "  "
            ]
          },
          "metadata": {}
        },
        {
          "output_type": "display_data",
          "data": {
            "text/plain": [
              "<IPython.core.display.Javascript object>"
            ],
            "application/javascript": [
              "download(\"download_53a1194a-9ad3-4281-8dfb-d568897fc652\", \"statement_output_2024Q1.csv\", 3829)"
            ]
          },
          "metadata": {}
        }
      ]
    },
    {
      "cell_type": "code",
      "source": [],
      "metadata": {
        "id": "QpW8yR-zAmd8"
      },
      "execution_count": 34,
      "outputs": []
    }
  ]
}