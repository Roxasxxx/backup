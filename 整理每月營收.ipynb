{
  "nbformat": 4,
  "nbformat_minor": 0,
  "metadata": {
    "colab": {
      "provenance": [],
      "authorship_tag": "ABX9TyNkUhCJs5e7k7+ZL6ls8WGN",
      "include_colab_link": true
    },
    "kernelspec": {
      "name": "python3",
      "display_name": "Python 3"
    },
    "language_info": {
      "name": "python"
    }
  },
  "cells": [
    {
      "cell_type": "markdown",
      "metadata": {
        "id": "view-in-github",
        "colab_type": "text"
      },
      "source": [
        "<a href=\"https://colab.research.google.com/github/Roxasxxx/backup/blob/main/%E6%95%B4%E7%90%86%E6%AF%8F%E6%9C%88%E7%87%9F%E6%94%B6.ipynb\" target=\"_parent\"><img src=\"https://colab.research.google.com/assets/colab-badge.svg\" alt=\"Open In Colab\"/></a>"
      ]
    },
    {
      "cell_type": "code",
      "execution_count": 3,
      "metadata": {
        "id": "N6tioc9--eWQ"
      },
      "outputs": [],
      "source": [
        "import pandas as pd"
      ]
    },
    {
      "cell_type": "code",
      "source": [
        "df1 = pd.read_csv(\"t21sc03_113_6.csv\")\n",
        "df2 = pd.read_csv(\"t21sc03_113_6 (1).csv\")\n",
        "\n",
        "df = pd.concat([df1,df2])"
      ],
      "metadata": {
        "id": "OT6E-qjz-uiX"
      },
      "execution_count": 4,
      "outputs": []
    },
    {
      "cell_type": "code",
      "source": [
        "\n",
        "codes = [2459,\n",
        "3010,\n",
        "3028,\n",
        "3033,\n",
        "3036,\n",
        "3048,\n",
        "3209,\n",
        "3232,\n",
        "3312,\n",
        "3360,\n",
        "3444,\n",
        "3528,\n",
        "3702,\n",
        "5434,\n",
        "6113,\n",
        "6189,\n",
        "6192,\n",
        "6227,\n",
        "6259,\n",
        "6265,\n",
        "6270,\n",
        "8032,\n",
        "8068,\n",
        "8070,\n",
        "8096,\n",
        "8112]\n",
        "code_df = pd.DataFrame({\"公司代號\":codes})\n",
        "output_r = pd.merge(code_df, df, how='left', on=\"公司代號\")\n",
        "output_r = output_r[['公司代號','公司名稱', '營業收入-當月營收','營業收入-上月營收',\n",
        "                                   '營業收入-上月比較增減(%)','營業收入-去年同月增減(%)',\n",
        "                                   '累計營業收入-當月累計營收','累計營業收入-前期比較增減(%)']]\n",
        "output_r.to_csv('每月營收整理.csv', index=False,encoding=\"utf_8_sig\")"
      ],
      "metadata": {
        "id": "HgS-S8Lp-ulJ"
      },
      "execution_count": 5,
      "outputs": []
    },
    {
      "cell_type": "code",
      "source": [
        "from google.colab import files\n",
        "\n",
        "files.download('每月營收整理.csv')"
      ],
      "metadata": {
        "colab": {
          "base_uri": "https://localhost:8080/",
          "height": 17
        },
        "id": "5m4Ufmt6-un4",
        "outputId": "6b978d6e-d41f-4b22-8c95-c43105dd56c4"
      },
      "execution_count": 6,
      "outputs": [
        {
          "output_type": "display_data",
          "data": {
            "text/plain": [
              "<IPython.core.display.Javascript object>"
            ],
            "application/javascript": [
              "\n",
              "    async function download(id, filename, size) {\n",
              "      if (!google.colab.kernel.accessAllowed) {\n",
              "        return;\n",
              "      }\n",
              "      const div = document.createElement('div');\n",
              "      const label = document.createElement('label');\n",
              "      label.textContent = `Downloading \"${filename}\": `;\n",
              "      div.appendChild(label);\n",
              "      const progress = document.createElement('progress');\n",
              "      progress.max = size;\n",
              "      div.appendChild(progress);\n",
              "      document.body.appendChild(div);\n",
              "\n",
              "      const buffers = [];\n",
              "      let downloaded = 0;\n",
              "\n",
              "      const channel = await google.colab.kernel.comms.open(id);\n",
              "      // Send a message to notify the kernel that we're ready.\n",
              "      channel.send({})\n",
              "\n",
              "      for await (const message of channel.messages) {\n",
              "        // Send a message to notify the kernel that we're ready.\n",
              "        channel.send({})\n",
              "        if (message.buffers) {\n",
              "          for (const buffer of message.buffers) {\n",
              "            buffers.push(buffer);\n",
              "            downloaded += buffer.byteLength;\n",
              "            progress.value = downloaded;\n",
              "          }\n",
              "        }\n",
              "      }\n",
              "      const blob = new Blob(buffers, {type: 'application/binary'});\n",
              "      const a = document.createElement('a');\n",
              "      a.href = window.URL.createObjectURL(blob);\n",
              "      a.download = filename;\n",
              "      div.appendChild(a);\n",
              "      a.click();\n",
              "      div.remove();\n",
              "    }\n",
              "  "
            ]
          },
          "metadata": {}
        },
        {
          "output_type": "display_data",
          "data": {
            "text/plain": [
              "<IPython.core.display.Javascript object>"
            ],
            "application/javascript": [
              "download(\"download_b43c2f21-205a-4a1f-9a09-a8f0cfa8fec4\", \"\\u6bcf\\u6708\\u71df\\u6536\\u6574\\u7406.csv\", 2415)"
            ]
          },
          "metadata": {}
        }
      ]
    },
    {
      "cell_type": "code",
      "source": [],
      "metadata": {
        "id": "wBZJ15ji-urS"
      },
      "execution_count": 6,
      "outputs": []
    }
  ]
}